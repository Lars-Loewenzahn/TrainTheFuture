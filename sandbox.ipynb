{
 "cells": [
  {
   "cell_type": "code",
   "execution_count": 5,
   "id": "410ca856",
   "metadata": {},
   "outputs": [
    {
     "name": "stdout",
     "output_type": "stream",
     "text": [
      "False 0\n"
     ]
    }
   ],
   "source": [
    "lie = 0 >= 1\n",
    "num = int(lie)\n",
    "print(lie, num)"
   ]
  },
  {
   "cell_type": "code",
   "execution_count": 6,
   "id": "ec7a9bf5",
   "metadata": {},
   "outputs": [
    {
     "name": "stdout",
     "output_type": "stream",
     "text": [
      "r\n"
     ]
    }
   ],
   "source": [
    "name = \"Lars\"\n",
    "#       01234\n",
    "buchstabe = name[2]\n",
    "print(buchstabe)"
   ]
  },
  {
   "cell_type": "code",
   "execution_count": 12,
   "id": "0827ca7c",
   "metadata": {},
   "outputs": [
    {
     "name": "stdout",
     "output_type": "stream",
     "text": [
      "-1\n",
      "HEUTE WAREN ALLE LEUTE IN JEANS\n"
     ]
    }
   ],
   "source": [
    "text = \"Heute waren alle Leute in Jeans\"\n",
    "lower_text = text.upper()\n",
    "ans = lower_text.find(\"jeans\")\n",
    "print(ans)\n",
    "print(lower_text)"
   ]
  },
  {
   "cell_type": "code",
   "execution_count": 15,
   "id": "d266030a",
   "metadata": {},
   "outputs": [
    {
     "name": "stdout",
     "output_type": "stream",
     "text": [
      "3\n",
      "Hallo\n"
     ]
    }
   ],
   "source": [
    "a = int(str(3))\n",
    "print(a); print(\"Hallo\")"
   ]
  },
  {
   "cell_type": "code",
   "execution_count": 21,
   "id": "8a368b4b",
   "metadata": {},
   "outputs": [
    {
     "name": "stdout",
     "output_type": "stream",
     "text": [
      "4\n"
     ]
    }
   ],
   "source": [
    "a = 2\n",
    "a += 3\n",
    "a %= 5\n",
    "a = a + 4\n",
    "print(a)"
   ]
  },
  {
   "cell_type": "code",
   "execution_count": 22,
   "id": "b6698203",
   "metadata": {},
   "outputs": [
    {
     "name": "stdout",
     "output_type": "stream",
     "text": [
      "11\n"
     ]
    }
   ],
   "source": [
    "# Dieser Code hilft beim Rechnen\n",
    "a = input(\"A\")\n",
    "b = input(\"B\")\n",
    "'''\n",
    "A wird abgefragt\n",
    "B wird abgefragt\n",
    "A und B werden addiert '''\n",
    "\n",
    "print(a + b)"
   ]
  }
 ],
 "metadata": {
  "kernelspec": {
   "display_name": "venv",
   "language": "python",
   "name": "python3"
  },
  "language_info": {
   "codemirror_mode": {
    "name": "ipython",
    "version": 3
   },
   "file_extension": ".py",
   "mimetype": "text/x-python",
   "name": "python",
   "nbconvert_exporter": "python",
   "pygments_lexer": "ipython3",
   "version": "3.13.5"
  }
 },
 "nbformat": 4,
 "nbformat_minor": 5
}
