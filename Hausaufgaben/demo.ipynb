{
 "cells": [
  {
   "cell_type": "code",
   "execution_count": null,
   "id": "cd045380",
   "metadata": {},
   "outputs": [
    {
     "name": "stdout",
     "output_type": "stream",
     "text": [
      "loaded\n"
     ]
    }
   ],
   "source": [
    "import sys\n",
    "# sys.path.append('c:/Users/Lars/Documents/GitHub/TrainTheFuture/Hausaufgaben')\n",
    "import Formelsammlung as fs"
   ]
  },
  {
   "cell_type": "code",
   "execution_count": 8,
   "id": "cf1d1ebe",
   "metadata": {},
   "outputs": [
    {
     "name": "stdout",
     "output_type": "stream",
     "text": [
      "Umfang = 31.41592653589793\n",
      "Fläche = 78.53981633974483\n"
     ]
    }
   ],
   "source": [
    "kreis1 = fs.kreis(radius=5)\n",
    "print(\"Umfang =\", kreis1.umfang())\n",
    "print(\"Fläche =\", kreis1.flaeche())"
   ]
  }
 ],
 "metadata": {
  "kernelspec": {
   "display_name": "venv",
   "language": "python",
   "name": "python3"
  },
  "language_info": {
   "codemirror_mode": {
    "name": "ipython",
    "version": 3
   },
   "file_extension": ".py",
   "mimetype": "text/x-python",
   "name": "python",
   "nbconvert_exporter": "python",
   "pygments_lexer": "ipython3",
   "version": "3.13.3"
  }
 },
 "nbformat": 4,
 "nbformat_minor": 5
}
