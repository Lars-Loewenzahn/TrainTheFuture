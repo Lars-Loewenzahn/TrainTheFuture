{
 "cells": [
  {
   "cell_type": "code",
   "execution_count": 29,
   "id": "43163a14",
   "metadata": {},
   "outputs": [],
   "source": [
    "dict_a = {\n",
    "    \"k1\":\"Peter Pan\",\n",
    "\"k2\":\"Santa Claus\"}"
   ]
  },
  {
   "cell_type": "code",
   "execution_count": 32,
   "id": "8ee2d16b",
   "metadata": {},
   "outputs": [
    {
     "name": "stdout",
     "output_type": "stream",
     "text": [
      "k1\n",
      "Peter Pan\n",
      "k2\n",
      "Santa Claus\n"
     ]
    }
   ],
   "source": [
    "for a, b in dict_a.items():\n",
    "    print(a)\n",
    "    print(b)"
   ]
  },
  {
   "cell_type": "code",
   "execution_count": 2,
   "id": "92f56004",
   "metadata": {},
   "outputs": [
    {
     "data": {
      "text/plain": [
       "{'k1': 'Peter Pan', 'k2': 'Santa Claus'}"
      ]
     },
     "execution_count": 2,
     "metadata": {},
     "output_type": "execute_result"
    }
   ],
   "source": [
    "dict_a"
   ]
  },
  {
   "cell_type": "code",
   "execution_count": 3,
   "id": "0c7c967a",
   "metadata": {},
   "outputs": [],
   "source": [
    "del dict_a[\"k1\"]"
   ]
  },
  {
   "cell_type": "code",
   "execution_count": 4,
   "id": "3d40d857",
   "metadata": {},
   "outputs": [
    {
     "data": {
      "text/plain": [
       "{'k2': 'Santa Claus'}"
      ]
     },
     "execution_count": 4,
     "metadata": {},
     "output_type": "execute_result"
    }
   ],
   "source": [
    "dict_a"
   ]
  },
  {
   "cell_type": "code",
   "execution_count": 5,
   "id": "92fe7116",
   "metadata": {},
   "outputs": [
    {
     "ename": "NameError",
     "evalue": "name 'a' is not defined",
     "output_type": "error",
     "traceback": [
      "\u001b[31m---------------------------------------------------------------------------\u001b[39m",
      "\u001b[31mNameError\u001b[39m                                 Traceback (most recent call last)",
      "\u001b[36mCell\u001b[39m\u001b[36m \u001b[39m\u001b[32mIn[5]\u001b[39m\u001b[32m, line 3\u001b[39m\n\u001b[32m      1\u001b[39m a = \u001b[32m1\u001b[39m\n\u001b[32m      2\u001b[39m \u001b[38;5;28;01mdel\u001b[39;00m a\n\u001b[32m----> \u001b[39m\u001b[32m3\u001b[39m \u001b[38;5;28mprint\u001b[39m(\u001b[43ma\u001b[49m)\n",
      "\u001b[31mNameError\u001b[39m: name 'a' is not defined"
     ]
    }
   ],
   "source": [
    "a = 1\n",
    "del a\n",
    "print(a)"
   ]
  },
  {
   "cell_type": "code",
   "execution_count": 26,
   "id": "73b2bb52",
   "metadata": {},
   "outputs": [
    {
     "name": "stdout",
     "output_type": "stream",
     "text": [
      "Hello Class\n",
      "Hello\n",
      "Klamooten\n"
     ]
    }
   ],
   "source": [
    "a = print(\"Hello Class\")\n",
    "if print(\"Hello\"):\n",
    "    print(\"yeah\")\n",
    "\n",
    "#def function1():\n",
    "    2+2\n",
    "\n",
    "if function1:\n",
    "    print(\"Klamooten\")"
   ]
  },
  {
   "cell_type": "code",
   "execution_count": null,
   "id": "f02cf306",
   "metadata": {},
   "outputs": [
    {
     "data": {
      "text/plain": [
       "['Bella', 'Chrissi']"
      ]
     },
     "execution_count": 28,
     "metadata": {},
     "output_type": "execute_result"
    }
   ],
   "source": [
    "list1 = [\"Anna\", \"Bella\", \"Chrissi\"]\n",
    "list1.remove(\"Anna\")\n",
    "list1"
   ]
  },
  {
   "cell_type": "code",
   "execution_count": null,
   "id": "bb5829a3",
   "metadata": {},
   "outputs": [
    {
     "data": {
      "text/plain": [
       "13"
      ]
     },
     "execution_count": 4,
     "metadata": {},
     "output_type": "execute_result"
    }
   ],
   "source": [
    "136%10\n",
    "136//10\n",
    "136%10 = 136 - (136//10)*10"
   ]
  },
  {
   "cell_type": "code",
   "execution_count": 16,
   "id": "8faf3589",
   "metadata": {},
   "outputs": [],
   "source": [
    "headline = \"Note 1\"\n",
    "content = \"This is a not with some important information\"\n",
    "tags = [\"note\", \"content\",\"fart\"]"
   ]
  },
  {
   "cell_type": "code",
   "execution_count": 17,
   "id": "29b260c6",
   "metadata": {},
   "outputs": [
    {
     "data": {
      "text/plain": [
       "'Note 1 \\nThis is a not with some important information \\n#note  \\n#content  \\n#fart '"
      ]
     },
     "execution_count": 17,
     "metadata": {},
     "output_type": "execute_result"
    }
   ],
   "source": [
    "data = headline + \" \\n\" + content\n",
    "for tag in tags:\n",
    "    data += \" \\n#\" + tag + \" \"\n",
    "data"
   ]
  },
  {
   "cell_type": "code",
   "execution_count": 18,
   "id": "8523f982",
   "metadata": {},
   "outputs": [],
   "source": [
    "with open(\"data.txt\", \"w\") as file:\n",
    "    file.write(data)"
   ]
  },
  {
   "cell_type": "code",
   "execution_count": 21,
   "id": "694d973f",
   "metadata": {},
   "outputs": [
    {
     "data": {
      "text/plain": [
       "['Note 1 \\n',\n",
       " 'This is a not with some important information \\n',\n",
       " '#note  \\n',\n",
       " '#content  \\n',\n",
       " '#fart ']"
      ]
     },
     "execution_count": 21,
     "metadata": {},
     "output_type": "execute_result"
    }
   ],
   "source": [
    "with open(\"data.txt\", \"r\") as file:\n",
    "    data = file.readlines()\n",
    "data"
   ]
  },
  {
   "cell_type": "code",
   "execution_count": 22,
   "id": "25e5e781",
   "metadata": {},
   "outputs": [
    {
     "data": {
      "text/plain": [
       "'Note 1'"
      ]
     },
     "execution_count": 22,
     "metadata": {},
     "output_type": "execute_result"
    }
   ],
   "source": [
    "headline = data[0].replace(\" \\n\", \"\")\n",
    "headline"
   ]
  },
  {
   "cell_type": "code",
   "execution_count": 25,
   "id": "ec574589",
   "metadata": {},
   "outputs": [
    {
     "data": {
      "text/plain": [
       "'This is a not with some important information'"
      ]
     },
     "execution_count": 25,
     "metadata": {},
     "output_type": "execute_result"
    }
   ],
   "source": [
    "content =\"\"\n",
    "for line in data[1::]:\n",
    "    if not line[0] == \"#\":\n",
    "        content += line.replace(\" \\n\", \"\")\n",
    "content"
   ]
  },
  {
   "cell_type": "code",
   "execution_count": 30,
   "id": "968786db",
   "metadata": {},
   "outputs": [
    {
     "data": {
      "text/plain": [
       "['note', 'content', 'fart']"
      ]
     },
     "execution_count": 30,
     "metadata": {},
     "output_type": "execute_result"
    }
   ],
   "source": [
    "tags = []\n",
    "for line in data[1::]:\n",
    "    if line[0] == \"#\":\n",
    "        line = line.replace(\" \",\"\")\n",
    "        line = line.replace(\"#\", \"\")\n",
    "        tags.append(line.replace(\"\\n\", \"\"))\n",
    "tags"
   ]
  },
  {
   "cell_type": "code",
   "execution_count": null,
   "id": "67156208",
   "metadata": {},
   "outputs": [],
   "source": [
    "def save_data(name, content, tags):\n",
    "    data = name + \" \\n\" + content\n",
    "    for tag in tags:\n",
    "        data += \" \\n#\" + tag + \" \"\n",
    "    filename = name + \".txt\"\n",
    "    with open(filename, \"w\") as file:\n",
    "        file.write(data)\n",
    "    return\n",
    "\n"
   ]
  },
  {
   "cell_type": "code",
   "execution_count": 32,
   "id": "c412c78f",
   "metadata": {},
   "outputs": [],
   "source": [
    "headline = \"Note 1\"\n",
    "content = \"This is a not with some important information\"\n",
    "tags = [\"note\", \"content\",\"fart\"]\n",
    "save_data(headline, content, tags)"
   ]
  },
  {
   "cell_type": "code",
   "execution_count": null,
   "id": "dde0b4bc",
   "metadata": {},
   "outputs": [],
   "source": [
    "def load_data(name):\n",
    "    filename = name + \".txt\"\n",
    "    with open(filename, \"r\") as file:\n",
    "        data = file.readlines()\n",
    "\n",
    "    tags = []\n",
    "    content =\"\"\n",
    "    for line in data[1::]:\n",
    "        if not line[0] == \"#\":\n",
    "            content += line.replace(\" \\n\", \"\")\n",
    "        else:\n",
    "            line = line.replace(\" \",\"\")\n",
    "            line = line.replace(\"#\", \"\")\n",
    "            tags.append(line.replace(\"\\n\", \"\"))        \n",
    "    return content, tags"
   ]
  },
  {
   "cell_type": "code",
   "execution_count": 5,
   "id": "562249fd",
   "metadata": {},
   "outputs": [
    {
     "data": {
      "text/plain": [
       "[\"Lars 'the very long' Dickmann\"]"
      ]
     },
     "execution_count": 5,
     "metadata": {},
     "output_type": "execute_result"
    }
   ],
   "source": [
    "text = \"Lars_Dickmann\"\n",
    "text = text.replace(\"_\", \" 'the very long' \")\n",
    "list1 = text.split(\"_\")\n",
    "list1"
   ]
  },
  {
   "cell_type": "code",
   "execution_count": 6,
   "id": "6a2360bd",
   "metadata": {},
   "outputs": [],
   "source": [
    "import json\n",
    "\n",
    "daten = {\n",
    "    \"z\": 3,\n",
    "    \"b\": 1,\n",
    "    \"a\": 2\n",
    "}\n",
    "\n",
    "with open(\"beispiel.json\", \"w\") as f:\n",
    "    json.dump(daten, f, sort_keys=True, indent=2)"
   ]
  }
 ],
 "metadata": {
  "kernelspec": {
   "display_name": "venv",
   "language": "python",
   "name": "python3"
  },
  "language_info": {
   "codemirror_mode": {
    "name": "ipython",
    "version": 3
   },
   "file_extension": ".py",
   "mimetype": "text/x-python",
   "name": "python",
   "nbconvert_exporter": "python",
   "pygments_lexer": "ipython3",
   "version": "3.13.5"
  }
 },
 "nbformat": 4,
 "nbformat_minor": 5
}
